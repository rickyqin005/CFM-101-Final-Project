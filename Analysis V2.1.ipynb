{
 "cells": [
  {
   "cell_type": "code",
   "execution_count": 18,
   "id": "19a05a51",
   "metadata": {},
   "outputs": [],
   "source": [
    "from IPython.display import display, Math, Latex\n",
    "\n",
    "import pandas as pd\n",
    "import numpy as np\n",
    "import numpy_financial as npf\n",
    "import yfinance as yf\n",
    "import matplotlib.pyplot as plt\n",
    "from datetime import datetime"
   ]
  },
  {
   "cell_type": "markdown",
   "id": "a8847beb",
   "metadata": {},
   "source": [
    "## Group Assignment\n",
    "### Team Number: 20\n",
    "### Team Member Names: Ricky Qin, Tong Liu, Samay Bhagat, Alexander Domilescu\n",
    "### Team Strategy Chosen: RISKY"
   ]
  },
  {
   "cell_type": "markdown",
   "id": "6ba07647",
   "metadata": {},
   "source": [
    "## Contribution Declaration\n",
    "\n",
    "The following team members made a meaningful contribution to this assignment:\n",
    "\n",
    "Ricky Qin, Tong Liu, Samay Bhagat, Alexander Domilescu"
   ]
  },
  {
   "cell_type": "markdown",
   "id": "55e29984",
   "metadata": {},
   "source": [
    "The following code creates a function \"currency_exchange\" that takes in a dataframe and the currency of the dataframe and convert it into CAD."
   ]
  },
  {
   "cell_type": "code",
   "execution_count": 19,
   "id": "e7fdc979",
   "metadata": {},
   "outputs": [],
   "source": [
    "startdate = '2023-01-01'\n",
    "enddate = '2023-10-31'\n",
    "\n",
    "ticker_file = 'Tickers_Example.csv' \n",
    "tickers = pd.read_csv(ticker_file, header=None).values.flatten().tolist() \n",
    "\n",
    "#currency conversion\n",
    "CAD_transfer = yf.Ticker('CADUSD=x')\n",
    "transferRate = CAD_transfer.history(start=startdate, end=enddate)\n",
    "CAD_to_USD = transferRate[['Close']]\n",
    "CAD_to_USD.index = CAD_to_USD.index.strftime('%Y-%m-%d')\n",
    "    \n",
    "def currency_exchange(base, currency):\n",
    "    base.index = base.index.strftime('%Y-%m-%d')\n",
    "    if currency == 'USD':\n",
    "        exchange_rates = pd.DataFrame()\n",
    "        exchange_rates['Close'] = base['Close']/CAD_to_USD['Close']\n",
    "        exchange_rates = exchange_rates.dropna()\n",
    "        return exchange_rates\n",
    "    else:\n",
    "        return base"
   ]
  },
  {
   "cell_type": "code",
   "execution_count": 20,
   "id": "8c47b768",
   "metadata": {},
   "outputs": [],
   "source": [
    "def is_valid_currency(ticker):\n",
    "    stock_info = yf.Ticker(ticker).info\n",
    "    currency = stock_info.get('currency', '').upper() # retrieving the stock currency\n",
    "    return currency == 'USD' or currency == 'CAD' # returns T/F based on currency"
   ]
  },
  {
   "cell_type": "code",
   "execution_count": 21,
   "id": "2a0ed5a5",
   "metadata": {
    "scrolled": true
   },
   "outputs": [
    {
     "name": "stdout",
     "output_type": "stream",
     "text": [
      "[*********************100%%**********************]  1 of 1 completed\n",
      "[*********************100%%**********************]  1 of 1 completed\n",
      "[*********************100%%**********************]  1 of 1 completed\n",
      "[*********************100%%**********************]  1 of 1 completed\n",
      "Skipping AGN: Invalid currency.\n",
      "[*********************100%%**********************]  1 of 1 completed\n",
      "[*********************100%%**********************]  1 of 1 completed\n",
      "[*********************100%%**********************]  1 of 1 completed\n",
      "[*********************100%%**********************]  1 of 1 completed\n",
      "[*********************100%%**********************]  1 of 1 completed\n",
      "[*********************100%%**********************]  1 of 1 completed\n",
      "[*********************100%%**********************]  1 of 1 completed\n",
      "[*********************100%%**********************]  1 of 1 completed\n",
      "[*********************100%%**********************]  1 of 1 completed\n",
      "[*********************100%%**********************]  1 of 1 completed\n",
      "[*********************100%%**********************]  1 of 1 completed\n",
      "Skipping CELG: Invalid currency.\n",
      "[*********************100%%**********************]  1 of 1 completed\n",
      "[*********************100%%**********************]  1 of 1 completed\n",
      "[*********************100%%**********************]  1 of 1 completed\n",
      "[*********************100%%**********************]  1 of 1 completed\n",
      "[*********************100%%**********************]  1 of 1 completed\n",
      "Skipping MON: Invalid currency.\n",
      "[*********************100%%**********************]  1 of 1 completed\n",
      "[*********************100%%**********************]  1 of 1 completed\n",
      "[*********************100%%**********************]  1 of 1 completed\n",
      "[*********************100%%**********************]  1 of 1 completed\n",
      "[*********************100%%**********************]  1 of 1 completed\n",
      "[*********************100%%**********************]  1 of 1 completed\n",
      "[*********************100%%**********************]  1 of 1 completed\n",
      "Skipping RTN: Invalid currency.\n",
      "[*********************100%%**********************]  1 of 1 completed\n",
      "[*********************100%%**********************]  1 of 1 completed\n",
      "[*********************100%%**********************]  1 of 1 completed\n",
      "[*********************100%%**********************]  1 of 1 completed\n",
      "[*********************100%%**********************]  1 of 1 completed\n",
      "[*********************100%%**********************]  1 of 1 completed\n",
      "[*********************100%%**********************]  1 of 1 completed\n",
      "[*********************100%%**********************]  1 of 1 completed\n",
      "[*********************100%%**********************]  1 of 1 completed\n"
     ]
    }
   ],
   "source": [
    "def get_stock_data(ticker):\n",
    "    # get stock info\n",
    "    stock_info = yf.Ticker(ticker).info\n",
    "    \n",
    "    # check if the currency is valid\n",
    "    if is_valid_currency(ticker):\n",
    "        # download historical data\n",
    "        data = yf.download(ticker, start=startdate, end=enddate)\n",
    "        \n",
    "        # returning daily volume\n",
    "        monthly_volume = data['Volume'].resample('D').sum()\n",
    "        \n",
    "        #turning American stocks to CAD$\n",
    "        stock_price = currency_exchange(data[['Close']], stock_info['currency'])\n",
    "        \n",
    "        # create a dictionary for the ticker\n",
    "        result = {\n",
    "            'ticker': ticker,\n",
    "            'info': stock_info,\n",
    "            'close': stock_price,\n",
    "            'volume': pd.DataFrame(monthly_volume)\n",
    "        }\n",
    "        return result\n",
    "    else:\n",
    "        print(f\"Skipping {ticker}: Invalid currency.\")\n",
    "        return None\n",
    "\n",
    "# accumulates a list of dictionaries through get_stock_data    \n",
    "def process_tickers(ticker_list):\n",
    "    result_list = []\n",
    "    for ticker in ticker_list:\n",
    "        stock_data = get_stock_data(ticker)\n",
    "        if stock_data is not None:\n",
    "            result_list.append(stock_data)\n",
    "    return result_list\n",
    "\n",
    "result_list = process_tickers(tickers)"
   ]
  },
  {
   "cell_type": "markdown",
   "id": "4ba29dbf",
   "metadata": {},
   "source": [
    "Filter_stocks will filter the data downloaded above based on the following criterion: denominated in USD or CAD, and an average monthly volume of at least 150,000 shares during the time interval of January 01, 2023 to October 31, 2023."
   ]
  },
  {
   "cell_type": "code",
   "execution_count": 22,
   "id": "65de31d2",
   "metadata": {},
   "outputs": [],
   "source": [
    "def filter_stocks(result_list, min_avg_volume=150000, min_trading_days=18):\n",
    "    filtered_list = []\n",
    "\n",
    "    for stock_data in result_list:\n",
    "        ticker = stock_data['ticker']\n",
    "        volume_data = stock_data['volume']\n",
    "\n",
    "        # calculate average monthly volume\n",
    "        monthly_avg_volume = {}\n",
    "        for date, volume in volume_data.iterrows():\n",
    "            month = date.strftime('%Y-%m')\n",
    "            if month not in monthly_avg_volume:\n",
    "                monthly_avg_volume[month] = {'total_volume': 0, 'days_counted': 0}\n",
    "            if volume['Volume'] > 0 or monthly_avg_volume[month]['days_counted'] < min_trading_days:\n",
    "                monthly_avg_volume[month]['total_volume'] += volume['Volume']\n",
    "                monthly_avg_volume[month]['days_counted'] += 1\n",
    "\n",
    "        # remove stocks with less than min_trading_days in any month or average volume less than min_avg_volume\n",
    "        valid_months = [month for month, data in monthly_avg_volume.items() if data['days_counted'] >= min_trading_days]\n",
    "        avg_monthly_volume = sum(monthly_avg_volume[month]['total_volume'] / data['days_counted'] for month, data in monthly_avg_volume.items() if data['days_counted'] > 0) / len(valid_months) if valid_months else 0\n",
    "\n",
    "        if avg_monthly_volume >= min_avg_volume:\n",
    "            filtered_list.append(stock_data)\n",
    "\n",
    "    return filtered_list\n",
    "\n",
    "filtered_list = filter_stocks(result_list)"
   ]
  },
  {
   "cell_type": "markdown",
   "id": "daf02730",
   "metadata": {},
   "source": [
    "The following code groups the filtered list of stocks into their respective sectors. It will then create a dictionary with the number of stocks in each sector and will sort the dictionary in descending order. This will be used to determine the correlation of the portfolio later on in the program."
   ]
  },
  {
   "cell_type": "code",
   "execution_count": 23,
   "id": "4366d94f",
   "metadata": {},
   "outputs": [],
   "source": [
    "#returns a list of industries \n",
    "def return_industry(tickers):\n",
    "    industries = []\n",
    "    for i in range (len (tickers)):\n",
    "        stock = tickers[i]\n",
    "        sector = stock[\"info\"]['sector']\n",
    "        industries.append(sector)\n",
    "    return industries\n",
    "\n",
    "list_of_industries = return_industry(filtered_list)\n",
    "\n",
    "#returns a dictionary of sectors and how many companies are in the sector from a list of industries\n",
    "def industry_count(industry_list):\n",
    "    industry_dict={}\n",
    "    while len(industry_list) > 0:\n",
    "        industry_dict[industry_list[0]] = industry_list.count(industry_list[0])\n",
    "        industry_list = remove_items(industry_list, industry_list[0])\n",
    "    return industry_dict\n",
    "\n",
    "#Used to remove existing industries\n",
    "def remove_items(lst, item): \n",
    "    resulting_list = [i for i in lst if i != item] \n",
    "    return resulting_list\n",
    "\n",
    "count_of_industries = industry_count(list_of_industries)\n",
    "\n",
    "#Sorts the dictionary of industries by descending number of stocks in the industry\n",
    "sorted_dict_of_industries = sorted(count_of_industries.items(),key=lambda x:x[1], reverse = True)"
   ]
  },
  {
   "cell_type": "markdown",
   "id": "4b4dc3f9",
   "metadata": {},
   "source": [
    "stock_grouper will take the stocks in the filtered list and put them in a dictionary seperated by their respective industries. We will then determine the volatility of each sector using a myriad of statistics."
   ]
  },
  {
   "cell_type": "markdown",
   "id": "faef45ec",
   "metadata": {},
   "source": [
    "Our strategy shown in the following code below is based around determining a aggregate score of the volatility of each industry. We will use the beta of the industry, the average standard deviation of the industry, the percent difference of the 52 week high and low, and the overall correlation of the generated portfolio for this score. The higher the score of an industry, the more volatile it becomes, thus we will then add it to our final portfolio."
   ]
  },
  {
   "cell_type": "code",
   "execution_count": 24,
   "id": "abf78589",
   "metadata": {},
   "outputs": [],
   "source": [
    "#creating a dictionary of stocks within the given industry\n",
    "def stocks_in_industry (industry_dict):\n",
    "    industry_portfolio = {}\n",
    "    for i in range (len (industry_dict)):\n",
    "        industry_portfolio[(industry_dict[i][0])] = stock_grouper(filtered_list, (industry_dict[i][0]))\n",
    "    return industry_portfolio\n",
    "\n",
    "#finds all stocks in the given industry and returns it in a list\n",
    "def stock_grouper (stock_list, industry):\n",
    "    stocks = []\n",
    "    for i in range (len (stock_list)):\n",
    "        stock = stock_list[i]\n",
    "        sector = stock[\"info\"]['sector']\n",
    "        if sector == industry:\n",
    "            stocks.append(stock)\n",
    "    return stocks\n",
    "            \n",
    "stocks_in_industry_list = stocks_in_industry(sorted_dict_of_industries)      "
   ]
  },
  {
   "cell_type": "markdown",
   "id": "4ab3cd8b",
   "metadata": {},
   "source": []
  },
  {
   "cell_type": "code",
   "execution_count": 25,
   "id": "b8970146",
   "metadata": {},
   "outputs": [],
   "source": [
    "# calculates the beta of a list of tickers (relative to a market index)\n",
    "# assumes that the stocks are all denominated in the same currency as the market index\n",
    "# For our purposes, we will use daily data, since we want to assess how stocks perform relative to the market in\n",
    "# the short term (we are only investing for 5 days).\n",
    "# market data and stock data should have the same period and interval for consistency\n",
    "def calculate_beta(market_data, stock_dict):\n",
    "    # calculate market index returns\n",
    "    returns = market_data\n",
    "    returns = returns.rename(columns={'Close': 'Market'})\n",
    "    returns = returns.pct_change()\n",
    "    returns.drop(index=returns.index[0], inplace=True)\n",
    "    betas = []\n",
    "    \n",
    "    # calculate returns for the stock and adds it to the overall dataframe\n",
    "    stockReturns = stock_dict['close']\n",
    "    stockReturns = stockReturns.rename(columns={'Close': stock_dict['ticker']})\n",
    "    stockReturns = stockReturns.pct_change()\n",
    "    stockReturns.drop(index=stockReturns.index[0], inplace=True)\n",
    "    returns = returns.merge(stockReturns,left_index=True,right_index=True)\n",
    "    \n",
    "    # calculates covariance and market variance\n",
    "    returnsCov = returns.cov()\n",
    "    var = returns['Market'].var()\n",
    "    beta = returnsCov/var\n",
    "    \n",
    "    return beta.iat[1,0]\n",
    "    "
   ]
  },
  {
   "cell_type": "code",
   "execution_count": 26,
   "id": "1d7bac9c",
   "metadata": {},
   "outputs": [],
   "source": [
    "# aggregate score for each industry is initially zero\n",
    "industry_scores = {}\n",
    "for sector in stocks_in_industry_list:\n",
    "    industry_scores[sector] = 0"
   ]
  },
  {
   "cell_type": "code",
   "execution_count": 27,
   "id": "02a8a1ad",
   "metadata": {},
   "outputs": [],
   "source": [
    "# get market data (we are using s&p 500)\n",
    "market_data = yf.Ticker('^GSPC').history(start=startdate, end=enddate)[['Close']]#,period='1y',interval='1d'\n",
    "market_data.index = market_data.index.strftime('%Y-%m-%d')\n",
    "\n",
    "# consider beta for each industry (relative to s&p 500)\n",
    "for sector in stocks_in_industry_list:\n",
    "    stock_lst = stocks_in_industry_list[sector]\n",
    "    beta_avg = 0\n",
    "    for stock in stock_lst:\n",
    "        ourbeta = calculate_beta(market_data,stock)\n",
    "        beta_avg += ourbeta\n",
    "    beta_avg /= len(stock_lst)\n",
    "    industry_scores[sector] += beta_avg*0.3"
   ]
  },
  {
   "cell_type": "code",
   "execution_count": 28,
   "id": "e8c4542e",
   "metadata": {},
   "outputs": [],
   "source": [
    "# consider standard deviations for each industry\n",
    "for sector in stocks_in_industry_list:\n",
    "    stock_lst = stocks_in_industry_list[sector]\n",
    "    std_avg = 0\n",
    "    for stock in stock_lst:\n",
    "        close_pct = stock['close'].pct_change()\n",
    "        close_pct.drop(index=close_pct.index[0], inplace=True)\n",
    "        std_avg += close_pct['Close'].std()\n",
    "    std_avg /= len(stock_lst)\n",
    "    industry_scores[sector] += std_avg*20"
   ]
  },
  {
   "cell_type": "markdown",
   "id": "1a9e7041",
   "metadata": {},
   "source": [
    "The following code will compare the average 52 week high and low of each industry against each other. Our reasoning behind this statistic was to look at the previous volatility of the stock. If the resulting number was high, it would indicate a large potiential for movement and would signal a risky investment. If the resulting number was low, it would indicate a low potiential for movement and would signal a relatively stable stock that we do not want for our final portfolio."
   ]
  },
  {
   "cell_type": "code",
   "execution_count": 29,
   "id": "919cd75a",
   "metadata": {},
   "outputs": [],
   "source": [
    "# consider 52 week range (high divided by low) for each industry\n",
    "for sector in stocks_in_industry_list:\n",
    "    stock_lst = stocks_in_industry_list[sector]\n",
    "    hilo_avg = 0\n",
    "    for stock in stock_lst:\n",
    "        hilo_avg += stock['info']['fiftyTwoWeekHigh']/stock['info']['fiftyTwoWeekLow']\n",
    "    hilo_avg /= len(stock_lst)\n",
    "    industry_scores[sector] += hilo_avg*0.1"
   ]
  },
  {
   "cell_type": "markdown",
   "id": "59eeca10",
   "metadata": {},
   "source": [
    "In assignment 3, we proved that diversification lowered the standard deviation of the portfolio's daily returns, directly lowering the riskiness of our portfolio. We decided to negate the effect of this by grouping stocks by their industries, and by doing so we increase the correlation of our final portfolio as we add the entire industry in as opposed to singular stocks. We also want to buy the least amount of stocks possible, as that would further increase our diversifiction and would decrease our diversifiction."
   ]
  },
  {
   "cell_type": "markdown",
   "id": "3edd06a1",
   "metadata": {},
   "source": [
    "This is why we decided to alter the final aggregate risk score of each industry by the number of stocks in the portfolio. If we had decided to not do this, industries that possess only a few volatile stocks would form the majority of our portfolio, which would create a portfolio with neutral correlation. This would make our strategy virtually worthless as there was a high likelihood that the stocks would diversify the risk through multiple industries. By ensuring a high correlation, each stock would be moving in the same direction, which would lower the risk of diversifiction."
   ]
  },
  {
   "cell_type": "code",
   "execution_count": 30,
   "id": "0900f9c0",
   "metadata": {},
   "outputs": [],
   "source": [
    "# Adjust industry score by number of stocks within\n",
    "for sector in stocks_in_industry_list:\n",
    "    stock_lst = stocks_in_industry_list[sector]\n",
    "    industry_scores[sector] *= 1-2**(-len(stock_lst))"
   ]
  },
  {
   "cell_type": "code",
   "execution_count": 31,
   "id": "869f38e2",
   "metadata": {},
   "outputs": [],
   "source": [
    "# Format and print final result\n",
    "\n",
    "# convert industry_scores to a list so we can sort it\n",
    "industry_scores_temp = []\n",
    "for sector in industry_scores:\n",
    "    industry_scores_temp.append((sector,industry_scores[sector]))\n",
    "industry_scores = industry_scores_temp\n",
    "\n",
    "from functools import cmp_to_key\n",
    "# comparison function that sorts tuples by their second value in descending order\n",
    "def sort_by_second_desc(a, b):\n",
    "    if a[1] < b[1]:\n",
    "        return 1\n",
    "    elif a[1] > b[1]:\n",
    "        return -1\n",
    "    else:\n",
    "        return 0\n",
    "    \n",
    "#sort industries by aggregate score in descending order\n",
    "industry_scores.sort(key=cmp_to_key(sort_by_second_desc))"
   ]
  },
  {
   "cell_type": "code",
   "execution_count": 32,
   "id": "057b129a",
   "metadata": {},
   "outputs": [
    {
     "name": "stdout",
     "output_type": "stream",
     "text": [
      "Technology\n",
      "[('SHOP.TO', 0.03525100825025024), ('QCOM', 0.020696286868656356), ('TXN', 0.015591193442479334), ('ACN', 0.014876924598013269), ('AAPL', 0.013269600515218569)]\n",
      "Financial Services\n",
      "[('USB', 0.02556325465929087), ('PYPL', 0.02270225473418308), ('AIG', 0.017686861508759193), ('AXP', 0.017153095145726868), ('BAC', 0.016648149352155615), ('BK', 0.016242535803549337), ('C', 0.016224530521288704), ('BLK', 0.013482523539544603), ('TD.TO', 0.010949856846754842), ('RY.TO', 0.00926191049681605)]\n",
      "[('SHOP.TO', 0.2), ('QCOM', 0.2), ('TXN', 0.2), ('ACN', 0.1), ('AAPL', 0.05), ('USB', 0.05), ('PYPL', 0.05), ('AIG', 0.05), ('AXP', 0.05), ('BAC', 0.05)]\n"
     ]
    }
   ],
   "source": [
    "# Plan: consider the most volatile industries first and assign each stock in those industries the highest weighting allowed\n",
    "N_stocks = 10\n",
    "principal = 750000\n",
    "\n",
    "#stock_weightings[i] is the weight of the ith stock considered\n",
    "stock_weightings = [0.2,0.2,0.2,0.1,0.05,0.05,0.05,0.05,0.05,0.05]\n",
    "# a list of tuples, each tuple stores a ticker string and its corresponding portfolio weighting\n",
    "stock_percentages = []\n",
    "for industry in industry_scores:\n",
    "    \n",
    "    if len(stock_percentages) >= N_stocks:\n",
    "        break\n",
    "\n",
    "    industry_name = industry[0]\n",
    "    print(industry_name)\n",
    "    industry_score = industry[1]\n",
    "    stock_lst = stocks_in_industry_list[industry_name]\n",
    "    \n",
    "    # as a tie breaker, we first consider the stocks within the current industry with the highest std\n",
    "    stock_stds = []\n",
    "    for stock in stock_lst:\n",
    "        stock_returns = stock['close'].pct_change()\n",
    "        stock_returns.drop(index=stock_returns.index[0], inplace=True)\n",
    "        stock_stds.append((stock['ticker'],stock_returns['Close'].std()))\n",
    "    stock_stds.sort(key=cmp_to_key(sort_by_second_desc))\n",
    "    print(stock_stds)\n",
    "    for stock in stock_stds:\n",
    "        if len(stock_percentages) >= N_stocks:\n",
    "            break\n",
    "        stock_percentages.append((stock[0],stock_weightings[len(stock_percentages)]))\n",
    "\n",
    "print(stock_percentages)\n",
    "\n",
    "Portfolio_Final = {'Ticker': [],\n",
    "                   'Price': [],\n",
    "                   'Currency': [],\n",
    "                   'Shares': [],\n",
    "                   'Value': [],\n",
    "                   'Weight': []\n",
    "                  }\n",
    "\n",
    "curr_cad_usd = yf.Ticker('CADUSD=x').info['previousClose']\n",
    "for stock in stock_percentages:\n",
    "    stock_info = yf.Ticker(stock[0]).info\n",
    "    curr_price = stock_info['currentPrice']\n",
    "    Portfolio_Final['Ticker'].append(stock[0])\n",
    "    Portfolio_Final['Price'].append(curr_price)\n",
    "    Portfolio_Final['Currency'].append(stock_info['currency'])\n",
    "    num_shares = 0\n",
    "    if stock_info['currency'] == 'USD':\n",
    "        num_shares = principal*stock[1]/(curr_price/curr_cad_usd)\n",
    "    else:\n",
    "        num_shares = principal*stock[1]/curr_price\n",
    "    Portfolio_Final['Shares'].append(num_shares)\n",
    "    Portfolio_Final['Value'].append(principal*stock[1])\n",
    "    Portfolio_Final['Weight'].append(stock[1])\n",
    "    \n",
    "Portfolio_Final = pd.DataFrame(data=Portfolio_Final,index=[(i+1) for i in range(N_stocks)])"
   ]
  }
 ],
 "metadata": {
  "kernelspec": {
   "display_name": "Python 3 (ipykernel)",
   "language": "python",
   "name": "python3"
  },
  "language_info": {
   "codemirror_mode": {
    "name": "ipython",
    "version": 3
   },
   "file_extension": ".py",
   "mimetype": "text/x-python",
   "name": "python",
   "nbconvert_exporter": "python",
   "pygments_lexer": "ipython3",
   "version": "3.11.4"
  }
 },
 "nbformat": 4,
 "nbformat_minor": 5
}
