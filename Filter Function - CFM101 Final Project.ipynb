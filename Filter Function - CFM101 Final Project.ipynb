{
 "cells": [
  {
   "cell_type": "code",
   "execution_count": 1,
   "id": "179a4a33",
   "metadata": {},
   "outputs": [],
   "source": [
    "## Author: Samay Bhagat\n",
    "\n",
    "from IPython.display import display, Math, Latex\n",
    "\n",
    "import pandas as pd\n",
    "import numpy as np\n",
    "import numpy_financial as npf\n",
    "import yfinance as yf\n",
    "import matplotlib.pyplot as plt\n",
    "from datetime import datetime"
   ]
  },
  {
   "cell_type": "code",
   "execution_count": 2,
   "id": "2430dd0b",
   "metadata": {},
   "outputs": [],
   "source": [
    "startdate = '2020-01-01'\n",
    "enddate = '2023-06-02'\n",
    "\n",
    "# ticker_file = 'Tickers_Example.csv' (UNCOMMENT AND ADD NAME OF TICKERS CSV)\n",
    "# tickers = pd.read_csv(ticker_file, header=None).values.flatten().tolist() (UNCOMMENT)"
   ]
  },
  {
   "cell_type": "code",
   "execution_count": 3,
   "id": "85746f87",
   "metadata": {},
   "outputs": [],
   "source": [
    "# is_valid_currency takes a ticker name and ensures it's denominated in USD or CAD\n",
    "\n",
    "def is_valid_currency(ticker):\n",
    "    stock_info = yf.Ticker(ticker).info\n",
    "    currency = stock_info.get('currency', '').upper() # retrieving the stock currency\n",
    "    return currency == 'USD' or currency == 'CAD' # returns T/F based on currency"
   ]
  },
  {
   "cell_type": "code",
   "execution_count": 4,
   "id": "0f24b5b9",
   "metadata": {},
   "outputs": [],
   "source": [
    "# average_monthly_volume, as indicated by name, returns the average monthly \n",
    "\n",
    "def average_monthly_volume(ticker):\n",
    "    # Fetch historical data from Jan 1, 2023, to Oct 31, 2023\n",
    "    start_date = datetime(2023, 1, 1)\n",
    "    end_date = datetime(2023, 10, 31)\n",
    "    data = yf.download(ticker, start=start_date, end=end_date)\n",
    "\n",
    "    # resample the data to monthly frequency and calculate valid months\n",
    "    monthly_data = data['Volume'].resample('M').sum()\n",
    "    valid_months = monthly_data[monthly_data.index.day >= 18]\n",
    "\n",
    "    # filter months with at least 18 trading days\n",
    "    valid_months = valid_months[valid_months >= 18 * 150000]\n",
    "\n",
    "    # calculate average monthly volume\n",
    "    if len(valid_months) > 0:\n",
    "        return valid_months.mean()\n",
    "    else:\n",
    "        return 0  # return 0 if no valid months"
   ]
  },
  {
   "cell_type": "code",
   "execution_count": null,
   "id": "f7cdfb6c",
   "metadata": {},
   "outputs": [],
   "source": [
    "filtered_tickers = [ticker for ticker in tickers if is_valid_currency(ticker) \n",
    "                    and average_monthly_volume(ticker) >= 150000]\n",
    "\n",
    "filtered_tickers"
   ]
  }
 ],
 "metadata": {
  "kernelspec": {
   "display_name": "CFM101",
   "language": "python",
   "name": "cfm101"
  },
  "language_info": {
   "codemirror_mode": {
    "name": "ipython",
    "version": 3
   },
   "file_extension": ".py",
   "mimetype": "text/x-python",
   "name": "python",
   "nbconvert_exporter": "python",
   "pygments_lexer": "ipython3",
   "version": "3.11.5"
  }
 },
 "nbformat": 4,
 "nbformat_minor": 5
}
