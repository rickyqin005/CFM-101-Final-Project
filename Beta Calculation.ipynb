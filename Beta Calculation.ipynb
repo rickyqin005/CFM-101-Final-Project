{
 "cells": [
  {
   "cell_type": "code",
   "execution_count": 1,
   "id": "e8d5fa62",
   "metadata": {},
   "outputs": [],
   "source": [
    "## Author: Ricky Qin\n",
    "\n",
    "from IPython.display import display, Math, Latex\n",
    "import pandas as pd\n",
    "import yfinance as yf\n",
    "import matplotlib.pyplot as plt\n",
    "import random"
   ]
  },
  {
   "cell_type": "code",
   "execution_count": null,
   "id": "fcb03436",
   "metadata": {},
   "outputs": [],
   "source": [
    "# calculates the beta of a ticker relative to a market\n",
    "# For our purposes, we will use daily data, since we want to assess how stocks perform relative to the market in\n",
    "# the short term (we are only investing for 5 days).\n",
    "# market data and stock data should have the same period and interval for consistency\n",
    "def calculate_beta(market_data, stock_dict):\n",
    "    # calculate market index returns\n",
    "    returns = market_data\n",
    "    returns = returns.rename(columns={'Close': 'Market'})\n",
    "    returns = returns.pct_change()\n",
    "    returns.drop(index=returns.index[0], inplace=True)\n",
    "    betas = []\n",
    "    \n",
    "    # calculate returns for the stock and adds it to the overall dataframe\n",
    "    stockReturns = stock_dict['close']\n",
    "    stockReturns = stockReturns.rename(columns={'Close': stock_dict['ticker']})\n",
    "    stockReturns = stockReturns.pct_change()\n",
    "    stockReturns.drop(index=stockReturns.index[0], inplace=True)\n",
    "    returns = returns.merge(stockReturns,left_index=True,right_index=True)\n",
    "    \n",
    "    # calculates covariance and market variance\n",
    "    returnsCov = returns.cov()\n",
    "    var = returns['Market'].var()\n",
    "    beta = returnsCov/var\n",
    "    \n",
    "    return beta.iat[1,0]\n",
    "    "
   ]
  }
 ],
 "metadata": {
  "kernelspec": {
   "display_name": "Python 3 (ipykernel)",
   "language": "python",
   "name": "python3"
  },
  "language_info": {
   "codemirror_mode": {
    "name": "ipython",
    "version": 3
   },
   "file_extension": ".py",
   "mimetype": "text/x-python",
   "name": "python",
   "nbconvert_exporter": "python",
   "pygments_lexer": "ipython3",
   "version": "3.11.4"
  }
 },
 "nbformat": 4,
 "nbformat_minor": 5
}
