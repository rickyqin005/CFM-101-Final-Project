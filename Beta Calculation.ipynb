{
 "cells": [
  {
   "cell_type": "code",
   "execution_count": 1,
   "id": "e8d5fa62",
   "metadata": {},
   "outputs": [],
   "source": [
    "## Author: Ricky Qin\n",
    "\n",
    "from IPython.display import display, Math, Latex\n",
    "import pandas as pd\n",
    "import yfinance as yf\n",
    "import matplotlib.pyplot as plt\n",
    "import random"
   ]
  },
  {
   "cell_type": "code",
   "execution_count": 2,
   "id": "4cbd8049",
   "metadata": {},
   "outputs": [
    {
     "name": "stdout",
     "output_type": "stream",
     "text": [
      "[1.263646375619947, 1.8497944477275974, 0.419034892298596, 1.1519717928767954]\n"
     ]
    }
   ],
   "source": [
    "# calculates the beta of a list of tickers (relative to a market index)\n",
    "# assumes that the stocks are all denominated in the same currency as the market index\n",
    "# For our purposes, we will use daily data, since we want to assess how stocks perform relative to the market in\n",
    "# the short term (we are only investing for 5 days).\n",
    "# We use a period of one year so that fetching data doesn't take too long\n",
    "def calculate_beta(market_ticker, ticker_lst):\n",
    "    # calculate market index returns\n",
    "    returns = yf.Ticker(market_ticker).history(period='1y',interval='1d')[['Close']]\n",
    "    returns.rename(columns={'Close': 'Market'}, inplace=True)\n",
    "    returns = returns.pct_change()\n",
    "    returns.drop(index=returns.index[0], inplace=True)\n",
    "    betas = []\n",
    "    \n",
    "    # calculate returns for each stock and adds it to the overall dataframe\n",
    "    for ticker in ticker_lst:\n",
    "        stockReturns = yf.Ticker(ticker).history(period='1y',interval='1d')[['Close']]\n",
    "        stockReturns.rename(columns={'Close': ticker}, inplace=True)\n",
    "        stockReturns = stockReturns.pct_change()\n",
    "        stockReturns.drop(index=stockReturns.index[0], inplace=True)\n",
    "        returns = returns.merge(stockReturns,left_index=True,right_index=True)\n",
    "    \n",
    "    # calculates covariance and market variance\n",
    "    returnsCov = returns.cov()\n",
    "    var = returns['Market'].var()\n",
    "    beta = returnsCov/var\n",
    "    \n",
    "    return [beta.iat[i,0] for i in range(1,len(ticker_lst)+1)]\n",
    "    \n",
    "print(calculate_beta('^GSPC',['AAPL','GME','WMT','BBY']))"
   ]
  },
  {
   "cell_type": "code",
   "execution_count": null,
   "id": "fcb03436",
   "metadata": {},
   "outputs": [],
   "source": []
  }
 ],
 "metadata": {
  "kernelspec": {
   "display_name": "Python 3 (ipykernel)",
   "language": "python",
   "name": "python3"
  },
  "language_info": {
   "codemirror_mode": {
    "name": "ipython",
    "version": 3
   },
   "file_extension": ".py",
   "mimetype": "text/x-python",
   "name": "python",
   "nbconvert_exporter": "python",
   "pygments_lexer": "ipython3",
   "version": "3.11.4"
  }
 },
 "nbformat": 4,
 "nbformat_minor": 5
}
